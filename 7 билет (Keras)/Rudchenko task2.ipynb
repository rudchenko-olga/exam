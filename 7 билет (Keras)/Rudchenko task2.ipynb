{
 "cells": [
  {
   "cell_type": "code",
   "execution_count": 3,
   "metadata": {},
   "outputs": [],
   "source": [
    "import keras"
   ]
  },
  {
   "cell_type": "code",
   "execution_count": 4,
   "metadata": {},
   "outputs": [],
   "source": [
    "from keras.models import Sequential\n",
    "from keras.layers import Dense\n",
    "from keras import optimizers"
   ]
  },
  {
   "cell_type": "code",
   "execution_count": 5,
   "metadata": {},
   "outputs": [],
   "source": [
    "import pandas as pd\n",
    "data=pd.read_csv(\"Книга1Рудченко.csv\")"
   ]
  },
  {
   "cell_type": "code",
   "execution_count": 18,
   "metadata": {},
   "outputs": [],
   "source": [
    "x=data.loc[0:199,['X1']]\n",
    "y=data.loc[0:199,['Y']]\n",
    "\n",
    "from sklearn.model_selection import train_test_split"
   ]
  },
  {
   "cell_type": "code",
   "execution_count": null,
   "metadata": {},
   "outputs": [],
   "source": [
    "x_train, x_test, y_train, y_test = train_test_split(x,y,test_size=0.05,random_state=42)\n",
    "\n",
    "model=keras.models.Sequential()\n",
    "\n",
    "model.add(keras.layers.Dense(1,input_shape=(1,),activation='linear'))\n",
    "model.add(keras.layers.Dense(64, activation='elu'))\n",
    "model.add(keras.layers.Dense(48, activation='linear'))\n",
    "model.add(keras.layers.Dense(32, activation='elu'))\n",
    "model.add(keras.layers.Dense(16, activation='elu'))\n",
    "model.add(keras.layers.Dense(1, activation='elu'))\n",
    "\n",
    "model.compile(loss='mean_squared_error', optimizer='Adam', metrics=['mean_squared_error'])\n",
    "model.fit(x_train,y_train,epochs=10000,batch_size=200, verbose=0,shuffle=True)\n",
    "\n",
    "scores=model.evaluate(x_train,y_train)\n",
    "print(model.metrics_names[1],scores[1])\n",
    "\n",
    "result_train=model.predict(x_train)\n",
    "scores=model.evaluate(x_train,y_train)\n",
    "print(model.metrics_names[1],scores[1])\n",
    "\n",
    "result_test=model.predict(x_test)\n",
    "error_test=model.predict(x_test)-y_test\n",
    "print('Err test' + str(error_test))"
   ]
  },
  {
   "cell_type": "code",
   "execution_count": null,
   "metadata": {},
   "outputs": [],
   "source": []
  }
 ],
 "metadata": {
  "kernelspec": {
   "display_name": "Python 3",
   "language": "python",
   "name": "python3"
  },
  "language_info": {
   "codemirror_mode": {
    "name": "ipython",
    "version": 3
   },
   "file_extension": ".py",
   "mimetype": "text/x-python",
   "name": "python",
   "nbconvert_exporter": "python",
   "pygments_lexer": "ipython3",
   "version": "3.6.7"
  }
 },
 "nbformat": 4,
 "nbformat_minor": 2
}
